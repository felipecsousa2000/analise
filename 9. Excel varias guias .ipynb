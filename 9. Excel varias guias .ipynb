{
 "cells": [
  {
   "cell_type": "code",
   "execution_count": 1,
   "metadata": {},
   "outputs": [],
   "source": [
    "import pandas as pd"
   ]
  },
  {
   "cell_type": "code",
   "execution_count": 2,
   "metadata": {},
   "outputs": [
    {
     "data": {
      "text/html": [
       "<div>\n",
       "<style scoped>\n",
       "    .dataframe tbody tr th:only-of-type {\n",
       "        vertical-align: middle;\n",
       "    }\n",
       "\n",
       "    .dataframe tbody tr th {\n",
       "        vertical-align: top;\n",
       "    }\n",
       "\n",
       "    .dataframe thead th {\n",
       "        text-align: right;\n",
       "    }\n",
       "</style>\n",
       "<table border=\"1\" class=\"dataframe\">\n",
       "  <thead>\n",
       "    <tr style=\"text-align: right;\">\n",
       "      <th></th>\n",
       "      <th>Vendedor</th>\n",
       "      <th>Vendas</th>\n",
       "    </tr>\n",
       "  </thead>\n",
       "  <tbody>\n",
       "    <tr>\n",
       "      <th>0</th>\n",
       "      <td>Lucas</td>\n",
       "      <td>625</td>\n",
       "    </tr>\n",
       "    <tr>\n",
       "      <th>1</th>\n",
       "      <td>Maria</td>\n",
       "      <td>594</td>\n",
       "    </tr>\n",
       "    <tr>\n",
       "      <th>2</th>\n",
       "      <td>Natália</td>\n",
       "      <td>650</td>\n",
       "    </tr>\n",
       "    <tr>\n",
       "      <th>3</th>\n",
       "      <td>Henrique</td>\n",
       "      <td>862</td>\n",
       "    </tr>\n",
       "    <tr>\n",
       "      <th>4</th>\n",
       "      <td>marcos</td>\n",
       "      <td>452</td>\n",
       "    </tr>\n",
       "    <tr>\n",
       "      <th>5</th>\n",
       "      <td>Paula</td>\n",
       "      <td>139</td>\n",
       "    </tr>\n",
       "    <tr>\n",
       "      <th>6</th>\n",
       "      <td>Juliano</td>\n",
       "      <td>175</td>\n",
       "    </tr>\n",
       "    <tr>\n",
       "      <th>7</th>\n",
       "      <td>Gabriela</td>\n",
       "      <td>293</td>\n",
       "    </tr>\n",
       "    <tr>\n",
       "      <th>8</th>\n",
       "      <td>Brian</td>\n",
       "      <td>529</td>\n",
       "    </tr>\n",
       "    <tr>\n",
       "      <th>9</th>\n",
       "      <td>Diego</td>\n",
       "      <td>507</td>\n",
       "    </tr>\n",
       "    <tr>\n",
       "      <th>10</th>\n",
       "      <td>kátia</td>\n",
       "      <td>705</td>\n",
       "    </tr>\n",
       "  </tbody>\n",
       "</table>\n",
       "</div>"
      ],
      "text/plain": [
       "    Vendedor  Vendas\n",
       "0     Lucas      625\n",
       "1      Maria     594\n",
       "2    Natália     650\n",
       "3   Henrique     862\n",
       "4     marcos     452\n",
       "5      Paula     139\n",
       "6    Juliano     175\n",
       "7   Gabriela     293\n",
       "8      Brian     529\n",
       "9      Diego     507\n",
       "10     kátia     705"
      ]
     },
     "metadata": {},
     "output_type": "display_data"
    }
   ],
   "source": [
    "# extração padrão\n",
    "df = pd.read_excel(r\"C:\\Origem\\arquivos_excel\\teste2.xlsx\") \n",
    "display(df)"
   ]
  },
  {
   "cell_type": "code",
   "execution_count": 13,
   "metadata": {},
   "outputs": [
    {
     "name": "stdout",
     "output_type": "stream",
     "text": [
      "['Plan1']\n"
     ]
    }
   ],
   "source": [
    "# extração selecionando guia espesifica (sheet_name + nome da guia excel)\n",
    "# df = pd.read_excel(r\"C:\\Origem\\arquivos_excel\\teste3.xlsx\", sheet_name='Vendas') \n",
    "# display(df)\n",
    "# xls = pd.ExcelFile(r\"C:\\Origem\\arquivos_excel\\teste3.xlsx\")\n",
    "# print(xls.sheet_names)"
   ]
  },
  {
   "cell_type": "code",
   "execution_count": null,
   "metadata": {},
   "outputs": [],
   "source": [
    "# extração selecionando guia espesifica (sheet_name + nome da guia excel)\n",
    "TabelaProduto = pd.read_excel(r\"K:\\Python\\Arquivos\\Origem\\arquivos_excel\\Caquinha.xlsx\" , sheet_name= 'Planilha2')\n",
    "display(TabelaProduto)"
   ]
  },
  {
   "cell_type": "code",
   "execution_count": null,
   "metadata": {},
   "outputs": [],
   "source": [
    "# extração selecionando guia espesifica + pula linha (sheet_name + nome da guia excel + skiprows pula quantas linhas quiser )\n",
    "#skiprows pula linha\n",
    "tabelaProduto = pd.read_excel(r\"K:\\Python\\Arquivos\\Origem\\arquivos_excel\\Caquinha.xlsx\" , sheet_name= 'Planilha2',skiprows=3)\n",
    "display(tabelaProduto)"
   ]
  },
  {
   "cell_type": "code",
   "execution_count": null,
   "metadata": {},
   "outputs": [],
   "source": [
    "# escolhendo coluns espefificas (usecols  )\n",
    "tabelaProduto2 = pd.read_excel(r\"K:\\Python\\Arquivos\\Origem\\arquivos_excel\\Caquinha.xlsx\" , sheet_name= 'Vendas')\n",
    "display(tabelaProduto2)"
   ]
  },
  {
   "cell_type": "code",
   "execution_count": null,
   "metadata": {},
   "outputs": [],
   "source": [
    "# escolhendo coluns espefificas (usecols)\n",
    "produto = pd.read_excel(r\"K:\\Python\\Arquivos\\Origem\\arquivos_excel\\Caquinha.xlsx\" , sheet_name= 'Vendas',usecols='A:B')\n",
    "display(produto)"
   ]
  },
  {
   "cell_type": "code",
   "execution_count": null,
   "metadata": {},
   "outputs": [],
   "source": [
    "# escolhendo coluns espefificas (usecols  )\n",
    "Loja = pd.read_excel(r\"K:\\Python\\Arquivos\\Origem\\arquivos_excel\\Caquinha.xlsx\" , sheet_name= 'Vendas',usecols= 'F:G')\n",
    "display(Loja)"
   ]
  },
  {
   "cell_type": "code",
   "execution_count": null,
   "metadata": {},
   "outputs": [],
   "source": [
    "# escolhendo coluns espefificas (usecols  )\n",
    "tabelaProduto2 = pd.read_excel(r\"K:\\Python\\Arquivos\\Origem\\arquivos_excel\\Caquinha.xlsx\" , sheet_name= 'Vendas')\n",
    "display(tabelaProduto2)"
   ]
  },
  {
   "cell_type": "code",
   "execution_count": null,
   "metadata": {},
   "outputs": [],
   "source": [
    "# escolhendo coluns espefificas (usecols)  + usando uma lista \n",
    "Produto = pd.read_excel(r\"K:\\Python\\Arquivos\\Origem\\arquivos_excel\\Caquinha.xlsx\" , sheet_name= 'Vendas',usecols= [0,1,2])\n",
    "display(Produto)"
   ]
  },
  {
   "cell_type": "code",
   "execution_count": null,
   "metadata": {},
   "outputs": [],
   "source": [
    "# escolhendo coluns espefificas (usecols)  + usando uma lista \n",
    "Loja = pd.read_excel(r\"K:\\Python\\Arquivos\\Origem\\arquivos_excel\\Caquinha.xlsx\" , sheet_name= 'Vendas',usecols= [5,6,7])\n",
    "display(Loja)"
   ]
  },
  {
   "cell_type": "code",
   "execution_count": null,
   "metadata": {},
   "outputs": [],
   "source": [
    "# escolhendo coluns espefificas    usecols + skiprows\n",
    "planilha4 = pd.read_excel(r\"K:\\Python\\Arquivos\\Origem\\arquivos_excel\\Caquinha.xlsx\" , sheet_name= 'Planilha4')\n",
    "display(planilha4)"
   ]
  },
  {
   "cell_type": "code",
   "execution_count": null,
   "metadata": {},
   "outputs": [],
   "source": [
    "# escolhendo coluns espefificas    usecols + skiprows\n",
    "planilha4 = pd.read_excel(r\"K:\\Python\\Arquivos\\Origem\\arquivos_excel\\Caquinha.xlsx\" , sheet_name= \"Planilha4\",usecols=\"g:h\",skiprows=7)\n",
    "display(planilha4)"
   ]
  },
  {
   "cell_type": "code",
   "execution_count": null,
   "metadata": {},
   "outputs": [],
   "source": [
    "#skiprows = pula linha \n",
    "#nrows = seleciona até a quantidade de linhas que voce quiser\n",
    "LojaProduto = pd.read_excel(r\"K:\\Python\\Arquivos\\Origem\\arquivos_excel\\Caquinha.xlsx\" , sheet_name= 'Produto - Loja')\n",
    "display(LojaProduto)"
   ]
  },
  {
   "cell_type": "code",
   "execution_count": null,
   "metadata": {},
   "outputs": [],
   "source": [
    "#skiprows = pula linha \n",
    "#nrows = seleciona até a quantidade de linhas que voce quiser \n",
    "produto = pd.read_excel(r\"K:\\Python\\Arquivos\\Origem\\arquivos_excel\\Caquinha.xlsx\" , sheet_name= 'Produto - Loja' , nrows= 11)\n",
    "display(produto)"
   ]
  },
  {
   "cell_type": "code",
   "execution_count": null,
   "metadata": {},
   "outputs": [],
   "source": [
    "#skiprows = pula linha \n",
    "#nrows = seleciona até a quantidade de linhas que voce quiser \n",
    "Loja = pd.read_excel(r\"K:\\Python\\Arquivos\\Origem\\arquivos_excel\\Caquinha.xlsx\" , sheet_name= 'Produto - Loja' , skiprows= 13)\n",
    "display(Loja)"
   ]
  },
  {
   "cell_type": "code",
   "execution_count": null,
   "metadata": {},
   "outputs": [],
   "source": [
    "Loja = pd.read_excel(r\"K:\\Python\\Arquivos\\Origem\\arquivos_excel\\Caquinha.xlsx\" , sheet_name= 'Produto - Loja' ,usecols='G:H', skiprows=13)\n",
    "display(Loja)"
   ]
  },
  {
   "cell_type": "code",
   "execution_count": null,
   "metadata": {},
   "outputs": [],
   "source": [
    "Loja = pd.read_excel(r\"K:\\Python\\Arquivos\\Origem\\arquivos_excel\\Caquinha.xlsx\" , sheet_name= 'Produto - Loja' ,usecols='G:H', nrows=11)\n",
    "display(Loja)"
   ]
  }
 ],
 "metadata": {
  "kernelspec": {
   "display_name": "Python 3",
   "language": "python",
   "name": "python3"
  },
  "language_info": {
   "codemirror_mode": {
    "name": "ipython",
    "version": 3
   },
   "file_extension": ".py",
   "mimetype": "text/x-python",
   "name": "python",
   "nbconvert_exporter": "python",
   "pygments_lexer": "ipython3",
   "version": "3.13.1"
  },
  "orig_nbformat": 4
 },
 "nbformat": 4,
 "nbformat_minor": 2
}
